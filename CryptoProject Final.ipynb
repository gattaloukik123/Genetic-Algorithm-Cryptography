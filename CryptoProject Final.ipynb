{
 "cells": [
  {
   "cell_type": "code",
   "execution_count": 36,
   "metadata": {},
   "outputs": [],
   "source": [
    "import random\n",
    "import numpy as np\n",
    "import math\n",
    "from nltk.tokenize import sent_tokenize\n",
    "import pandas as pd\n",
    "import matplotlib.pyplot as plt"
   ]
  },
  {
   "cell_type": "markdown",
   "metadata": {},
   "source": [
    "# Genetic Algorithm in Cryptography"
   ]
  },
  {
   "cell_type": "markdown",
   "metadata": {},
   "source": [
    "The various steps include \n",
    "    1) Population Genration\n",
    "    2) Fitness Test for each\n",
    "    3) Selecting the best two for crossover by the means of fitness test\n",
    "    4) Crossover of the selected two with higher values\n",
    "    5) Mutating them"
   ]
  },
  {
   "cell_type": "markdown",
   "metadata": {},
   "source": [
    "We can use hexa keys for this encryption process but we used binary keys according to the algorithm."
   ]
  },
  {
   "cell_type": "markdown",
   "metadata": {},
   "source": [
    "# Initial Population Generation"
   ]
  },
  {
   "cell_type": "code",
   "execution_count": 2,
   "metadata": {},
   "outputs": [],
   "source": [
    "def bin_pop_gen(size,allzeros):\n",
    "    key = ''\n",
    "    if(allzeros == True):\n",
    "        for i in range(size):\n",
    "            key += '0'\n",
    "    else:\n",
    "        for i in range(size):\n",
    "            key += str(random.randint(0,1))\n",
    "    return (key)\n",
    "\n",
    "def hex_pop_gen(size,allzeros):\n",
    "    key = ''\n",
    "    l = ['0','1','2','3','4','5','6','7','8','9','A','B','C','D','E','F']\n",
    "    if(allzeros == True):\n",
    "        for i in range(size):\n",
    "            key += '0'\n",
    "    else:\n",
    "        for i in range(size):\n",
    "            key += str(random.choice(l))\n",
    "    return (key)"
   ]
  },
  {
   "cell_type": "code",
   "execution_count": 3,
   "metadata": {},
   "outputs": [
    {
     "data": {
      "text/plain": [
       "'100011111011101111111111111101100100'"
      ]
     },
     "execution_count": 3,
     "metadata": {},
     "output_type": "execute_result"
    }
   ],
   "source": [
    "bin_pop_gen(36,False)\n"
   ]
  },
  {
   "cell_type": "code",
   "execution_count": 4,
   "metadata": {},
   "outputs": [],
   "source": [
    "def ini_pop(size):\n",
    "    d = {}\n",
    "    for i in range(32):\n",
    "        k = 'key'+str(i)\n",
    "        d[k] = bin_pop_gen(size,False)\n",
    "    return d"
   ]
  },
  {
   "cell_type": "code",
   "execution_count": 5,
   "metadata": {},
   "outputs": [
    {
     "data": {
      "text/plain": [
       "{'key0': '00111101001011111001010001110100110010010010000000010000001000010111000010001111010011011100101011011100100100010100010100010101',\n",
       " 'key1': '01010001111011100111001100010010111001001101001101111110001000000010000111110000101000001110000000001011100011110111100001101010',\n",
       " 'key2': '00111110110010101100011010101100001101000000100100010110100011011111010011011101000001011110001101001101100010100100010001001100',\n",
       " 'key3': '11101101101111010001111011010100101101010010111111100110110011010001101100001101000110010110001011101111001000001000000111110010',\n",
       " 'key4': '01000101110001011111001111101101010010100111100000101110110101001100111000100010000101010010000110001111010011010101110101101011',\n",
       " 'key5': '11101110111100010010000110011001100110111000001100100101100110111001000110110101100000101111011011110110100011000101101000101101',\n",
       " 'key6': '00110010100010011011000011001000100101101000110101010101001001101101011100100111001111000101110101101110100000011111011001000101',\n",
       " 'key7': '01001000100000011001110001001001101100011101111101010010011001111110110110001100001110010101001111110000000000001100110001001000',\n",
       " 'key8': '01111111001011011010001000001111011110000011101011101110001100101011111001011010100101010011000000110011100110111111001011100000',\n",
       " 'key9': '00010100001000011000000000010010010110010111001011110010101101110110001000011110110101110001100001010011101001001101101100101100',\n",
       " 'key10': '10111001100011101101010110110001000111110010010000111111011110011010010000010010100110101011001111101011011001010100000110111011',\n",
       " 'key11': '00111100001100111111111010000011000001111100001101001001101110101000011111111111110101001011001010000100000111101010100000010101',\n",
       " 'key12': '01110011010010011111101010000101100000010101000101000011100111101000000011000010000010100100011001101111110010001001010100111011',\n",
       " 'key13': '00110010111101000010000000101000000100111000111010111001110110110100010000001001111001101011111000000111000101000011001101101110',\n",
       " 'key14': '11101010110100001101100000011011110100001010011011000010100011101110000111010111010010000010001101100111000101010101010100111101',\n",
       " 'key15': '10111011000010111101001001111010000000101110101110110111010011000100000111000011001001000111010101010111010110011111100001001100',\n",
       " 'key16': '11000111010110111010000000101011100000110101011100010110001100111111011101101110010011011001010000001011101111001011101001111011',\n",
       " 'key17': '11111100011001100101001101101001001001001000010110010100110000011011011010100010110100010111010010101110011110111111001000010010',\n",
       " 'key18': '01111000000111011100001111111011011111110100100010011110101001110001101101100110100100111110100011100011111001111001100011100011',\n",
       " 'key19': '01100100111101000101001111111100010000110011001000001111000010000101110010111101100100010000010110001001101111111111110110011100',\n",
       " 'key20': '10110101001001011011110000011000111010111001110011000001011101110101010011100101101111100111111011001001010100110100100000100111',\n",
       " 'key21': '11010101110011110111001111010000000101010010111011000001000000000000010100000010001100010001010110001110010100010101000101101011',\n",
       " 'key22': '01011111111001110101111000100001011001111101111011011011011101010001101010011110000110101000000110001101100100010101000110111110',\n",
       " 'key23': '10101110010101001100100011011001100000010111000100000000011100010111110010001100100011011011011010110100111111000011100110001011',\n",
       " 'key24': '10000001111000111010110100111101110100101110110000011010110010010000100000000011100111001001001001110010011000101010001100001010',\n",
       " 'key25': '10111101110100100001110011000011011111111100011110001011010010000000000010101001011011000000000000101101110010111100101010110001',\n",
       " 'key26': '00011111110111110100101001000101100111011010100010000010001010010101100110000010011100100111110111110011010011011110110111000001',\n",
       " 'key27': '10011010110111000100100110011001010001100010010001011001110000100100001011100110011010111000001111110110000100001010110111101000',\n",
       " 'key28': '01111101010001111110010000110010101010001011101001000010110101111111101010001011010001110101001001001000101010111001101111001001',\n",
       " 'key29': '00110110010111010100100010110010110010110001001100111001100110000101011100011011011100100000101110110110001101010000001111100011',\n",
       " 'key30': '10101110101010110000011010111000011101010011000100001010011000011101101111100111001100011000011100100000110100101010111010110001',\n",
       " 'key31': '00001111001000101101111001011000011011101100000101100000001000011100010111011101001000001100111111000010110001000101000000001000'}"
      ]
     },
     "execution_count": 5,
     "metadata": {},
     "output_type": "execute_result"
    }
   ],
   "source": [
    "pop = ini_pop(128) #THis is also called generation and each item is called an individual\n",
    "pop"
   ]
  },
  {
   "cell_type": "markdown",
   "metadata": {},
   "source": [
    "# Fitness Test 1 "
   ]
  },
  {
   "cell_type": "markdown",
   "metadata": {},
   "source": [
    "This deals with finding the no. of ones in a single key."
   ]
  },
  {
   "cell_type": "code",
   "execution_count": 6,
   "metadata": {},
   "outputs": [],
   "source": [
    "def ff1(indi):\n",
    "    c = 0\n",
    "    for i in indi:\n",
    "        if(i == \"1\"):\n",
    "            c+=1\n",
    "    return c"
   ]
  },
  {
   "cell_type": "code",
   "execution_count": 7,
   "metadata": {},
   "outputs": [],
   "source": [
    "def totalfit(pop):      #For normalization purposes\n",
    "    s = 0\n",
    "    for i in range(len(pop)):\n",
    "        s += ff1(pop['key'+str(i)])\n",
    "    return s\n",
    "\n",
    "\n",
    "def r_value(indi,total):   #The metric on which we rely on selecting the best_two\n",
    "    return ff1(indi)/total\n",
    "\n",
    "def get_key(val,d):        #For ease purposes\n",
    "    for key, value in d.items(): \n",
    "         if val == value: \n",
    "            return key"
   ]
  },
  {
   "cell_type": "markdown",
   "metadata": {},
   "source": [
    "# Selecting the best two from the population"
   ]
  },
  {
   "cell_type": "code",
   "execution_count": 8,
   "metadata": {},
   "outputs": [
    {
     "data": {
      "text/plain": [
       "('01111000000111011100001111111011011111110100100010011110101001110001101101100110100100111110100011100011111001111001100011100011',\n",
       " '01011111111001110101111000100001011001111101111011011011011101010001101010011110000110101000000110001101100100010101000110111110')"
      ]
     },
     "execution_count": 8,
     "metadata": {},
     "output_type": "execute_result"
    }
   ],
   "source": [
    "def best_two(pop):\n",
    "    r_values = {}\n",
    "    for i in range(len(pop)):\n",
    "        total = totalfit(pop)\n",
    "        r = r_value(pop['key'+str(i)],total)\n",
    "        r_values[pop['key'+str(i)]] = r\n",
    "    l = list(r_values.values())\n",
    "    r1 = np.array(l)\n",
    "    r1 = np.unique(r1)\n",
    "    r1,r2 = list(np.sort(r1)[::-1])[:2]\n",
    "    \n",
    "    return get_key(r1,r_values),get_key(r2,r_values)\n",
    "\n",
    "best_two(pop)"
   ]
  },
  {
   "cell_type": "markdown",
   "metadata": {},
   "source": [
    "# Crossover"
   ]
  },
  {
   "cell_type": "markdown",
   "metadata": {},
   "source": [
    "We crossover half of the first binary equivalent with the other one and vice versa."
   ]
  },
  {
   "cell_type": "code",
   "execution_count": 9,
   "metadata": {},
   "outputs": [
    {
     "data": {
      "text/plain": [
       "('11000101', '01001010')"
      ]
     },
     "execution_count": 9,
     "metadata": {},
     "output_type": "execute_result"
    }
   ],
   "source": [
    "def crossover(a,b):\n",
    "    la = int(len(a)/2)\n",
    "    lb = int(len(b)/2)\n",
    "    a1 = a[:la]\n",
    "    a2 = b[la:]\n",
    "    b1 = b[:lb]\n",
    "    b2 = a[la:]\n",
    "    return a1+a2, b1+b2\n",
    "\n",
    "crossover('11001010','01000101')"
   ]
  },
  {
   "cell_type": "markdown",
   "metadata": {},
   "source": [
    "# Mutation"
   ]
  },
  {
   "cell_type": "markdown",
   "metadata": {},
   "source": [
    "We mutate the first, middle and also the last bit which gives us a modified individual from the selected ones."
   ]
  },
  {
   "cell_type": "code",
   "execution_count": 10,
   "metadata": {},
   "outputs": [
    {
     "data": {
      "text/plain": [
       "'01000011'"
      ]
     },
     "execution_count": 10,
     "metadata": {},
     "output_type": "execute_result"
    }
   ],
   "source": [
    "def mutate(a):\n",
    "    st = ''\n",
    "    la = int(len(a)/2)\n",
    "    if(a[0] == '0'):\n",
    "        st+='1'\n",
    "    else:\n",
    "        st+='0'\n",
    "    for i in range(1,len(a)-1):\n",
    "        if(i == la):\n",
    "            if(a[la] == '1'):\n",
    "                st += '0'\n",
    "            elif(a[la] == '0'):\n",
    "                st += '1'\n",
    "        else:\n",
    "            st += a[i]\n",
    "    if(a[len(a)-1] == '0'):\n",
    "        st+='1'\n",
    "    else:\n",
    "        st+='0'\n",
    "    return st\n",
    "\n",
    "mutate(\"11001010\")"
   ]
  },
  {
   "cell_type": "markdown",
   "metadata": {},
   "source": [
    "# Fitness Test 2"
   ]
  },
  {
   "cell_type": "markdown",
   "metadata": {},
   "source": [
    "This is another evaluation function used for evaluating our best two strings and to pick one. This function checks for most number of '1111' occurences in a given binary string."
   ]
  },
  {
   "cell_type": "code",
   "execution_count": 11,
   "metadata": {},
   "outputs": [
    {
     "data": {
      "text/plain": [
       "3"
      ]
     },
     "execution_count": 11,
     "metadata": {},
     "output_type": "execute_result"
    }
   ],
   "source": [
    "def ff2(k1):\n",
    "    k = '1111'\n",
    "    c = 0\n",
    "    \n",
    "    for f in range(len(k1)-3):\n",
    "        j=''\n",
    "        for i in range(f,f+4):\n",
    "            j+=k1[i]\n",
    "        if(j==k):\n",
    "            c+=1\n",
    "        else:\n",
    "            continue\n",
    "    return c\n",
    "\n",
    "ff2('1111000001111000001111')"
   ]
  },
  {
   "cell_type": "markdown",
   "metadata": {},
   "source": [
    "# Initial Key Selection"
   ]
  },
  {
   "cell_type": "markdown",
   "metadata": {},
   "source": [
    "This is a crucial step in our algorithm which selects the best key from a given population. All the above "
   ]
  },
  {
   "cell_type": "code",
   "execution_count": 12,
   "metadata": {},
   "outputs": [],
   "source": [
    "def initial_key(size):\n",
    "    pop = ini_pop(size)\n",
    "    k1,k2 = best_two(pop)\n",
    "    c1,c2 = crossover(k1,k2)\n",
    "    c1,c2 = mutate(c1),mutate(c2)\n",
    "    while(True):\n",
    "        if(ff2(c1) > ff2(c2)):\n",
    "            return c1\n",
    "            break\n",
    "        elif(ff2(c1) < ff2(c2)):\n",
    "            return c2\n",
    "            break\n",
    "        else:\n",
    "            pop[(get_key(k1,pop))]=bin_pop_gen(size,True)\n",
    "            pop[(get_key(k2,pop))]=bin_pop_gen(size,True)\n",
    "            k1,k2 = best_two(pop)\n",
    "            c1,c2 = crossover(k1,k2)\n",
    "            c1,c2 = mutate(c1),mutate(c2)"
   ]
  },
  {
   "cell_type": "markdown",
   "metadata": {},
   "source": [
    "The below function is used to generate binary string from the message given."
   ]
  },
  {
   "cell_type": "code",
   "execution_count": 13,
   "metadata": {},
   "outputs": [
    {
     "data": {
      "text/plain": [
       "'110001111100101111001111000011101001101111110011111100101100001111000011010001111001100000110100111100111000001100111110111111011111100100'"
      ]
     },
     "execution_count": 13,
     "metadata": {},
     "output_type": "execute_result"
    }
   ],
   "source": [
    "def data_block_gen(data):\n",
    "    block = ''\n",
    "    sentences = sent_tokenize(data)\n",
    "    for sent in sentences:\n",
    "        b = ''.join(format(i,'b') for i in bytearray(sent,encoding='UTF-8'))\n",
    "        block+=b\n",
    "    return block\n",
    "\n",
    "data_block_gen(\"cryptography is good\")"
   ]
  },
  {
   "cell_type": "markdown",
   "metadata": {},
   "source": [
    "XOR function which will be helped in  the code below for Dynamic Key generation"
   ]
  },
  {
   "cell_type": "code",
   "execution_count": 14,
   "metadata": {},
   "outputs": [],
   "source": [
    "def xor(a,b):\n",
    "    x = ''\n",
    "    for i in range(0,int((len(b)+len(a))/2)):\n",
    "        if(a[i] == b[i]):\n",
    "            x+='0'\n",
    "        else:\n",
    "            x+='1'\n",
    "    return x"
   ]
  },
  {
   "cell_type": "code",
   "execution_count": 15,
   "metadata": {},
   "outputs": [],
   "source": [
    "def decode_binary_string(s, encoding='ascii'):   #Used for decoding a binary string back to text\n",
    "    byte_string = ''.join(chr(int(s[i*7:i*7+7],2)) for i in range(len(s)//7))\n",
    "    return byte_string"
   ]
  },
  {
   "cell_type": "code",
   "execution_count": 16,
   "metadata": {},
   "outputs": [
    {
     "data": {
      "text/plain": [
       "192"
      ]
     },
     "execution_count": 16,
     "metadata": {},
     "output_type": "execute_result"
    }
   ],
   "source": [
    "def bits(block):      #Count the number of bits in a data block\n",
    "    return len(data_block_gen(block))\n",
    "\n",
    "bits(\"I am working on cryptography\")"
   ]
  },
  {
   "cell_type": "code",
   "execution_count": 17,
   "metadata": {},
   "outputs": [],
   "source": [
    "def addZeros(strr, n):  #Functions used to make things easy in this algo\n",
    "    for i in range(n): \n",
    "        strr = \"0\" + strr \n",
    "    return strr \n",
    "\n",
    "def getXOR(a, b):   #Alterantive XOR function for variable length binary strings\n",
    "    aLen = len(a) \n",
    "    bLen = len(b) \n",
    "    if (aLen > bLen): \n",
    "        b = addZeros(b, aLen - bLen) \n",
    "    elif (bLen > aLen): \n",
    "        a = addZeros(a, bLen - aLen) \n",
    "  \n",
    "    lenn = max(aLen, bLen); \n",
    "\n",
    "    res = \"\" \n",
    "    for i in range(lenn): \n",
    "        if (a[i] == b[i]): \n",
    "            res += \"0\"\n",
    "        else: \n",
    "            res += \"1\"\n",
    "  \n",
    "    return res "
   ]
  },
  {
   "cell_type": "markdown",
   "metadata": {},
   "source": [
    "# Automatic Variable Key generation (AVK)"
   ]
  },
  {
   "cell_type": "markdown",
   "metadata": {},
   "source": [
    "This is step we proceed to after getting our initial key. Imagine a sender and a reciever. Before establishing any connection they share there private keys and then start sending messages. \n",
    "The basic idea is to variate the key according to the data which makes it unbreakable and also less random."
   ]
  },
  {
   "cell_type": "code",
   "execution_count": 18,
   "metadata": {},
   "outputs": [],
   "source": [
    "mes = 'CryptographyisUseful'   #Let this be the message\n",
    "key = initial_key(bits(mes))    #Picking a initial key\n",
    "\n",
    "def auto_var_key(message,key):\n",
    "    return getXOR(data_block_gen(message),key)"
   ]
  },
  {
   "cell_type": "code",
   "execution_count": 19,
   "metadata": {},
   "outputs": [
    {
     "data": {
      "text/plain": [
       "('\\t\\x1d\\x02f16x]\\x16\\x01d\\x1bV\\x14hJYO+[', 'CryptographyisUseful')"
      ]
     },
     "execution_count": 19,
     "metadata": {},
     "output_type": "execute_result"
    }
   ],
   "source": [
    "cipher = auto_var_key(mes,key)\n",
    "original_text = xor(cipher,key)\n",
    "\n",
    "decode_binary_string(cipher), decode_binary_string(original_text) #An example on generating a cipher and its decrypted part"
   ]
  },
  {
   "cell_type": "markdown",
   "metadata": {},
   "source": [
    "# Decimal Automatic Variable Key (DCSAVK)"
   ]
  },
  {
   "cell_type": "markdown",
   "metadata": {},
   "source": [
    "This is another method that increases the randomness of a key making it more dependent on data.\n",
    "\n",
    "AVK follows key[i] = key[i-1] XOR Data[i-1] (data sent before)\n",
    "DCSAVK follows key[i] = key^[i-1] XOR Data[i-1] (^ meaning shift and the number it will shift is the decimal value of                                                  the above AVK equation)"
   ]
  },
  {
   "cell_type": "code",
   "execution_count": 20,
   "metadata": {},
   "outputs": [
    {
     "data": {
      "text/plain": [
       "'101111001'"
      ]
     },
     "execution_count": 20,
     "metadata": {},
     "output_type": "execute_result"
    }
   ],
   "source": [
    "def circular_shift(n,d,dire):\n",
    "    if(dire == 'right'):\n",
    "        shift = ''\n",
    "        for i in range(len(n)-d,len(n),1):\n",
    "            shift+=n[i]\n",
    "        for i in range(0,len(n)-d,1):\n",
    "            shift+=n[i]\n",
    "    if(dire == 'left'):\n",
    "        shift = ''\n",
    "        for i in range(d+1,len(n),1):\n",
    "            shift+=n[i]\n",
    "        for i in range(0,d+1,1):\n",
    "            shift+=n[i]\n",
    "            \n",
    "    return shift\n",
    "\n",
    "circular_shift('111001101',3,'right')"
   ]
  },
  {
   "cell_type": "code",
   "execution_count": 21,
   "metadata": {},
   "outputs": [
    {
     "data": {
      "text/plain": [
       "'W\\x17E\\x1bfy-\\x7f2h[\\x13u\\x0e\\x0ct?B\\x12\\x03'"
      ]
     },
     "execution_count": 21,
     "metadata": {},
     "output_type": "execute_result"
    }
   ],
   "source": [
    "def dec_avk(mes0,mes1,key):  #The Decimal AVK Algorithm\n",
    "    d = auto_var_key(mes0,key)\n",
    "    n = int(d,2)%int(len(key)/2)\n",
    "    key = circular_shift(key,n,'right')\n",
    "    cipher = getXOR(data_block_gen(mes1),key)\n",
    "    \n",
    "    return cipher\n",
    "\n",
    "decode_binary_string(dec_avk('previous','present',key))"
   ]
  },
  {
   "cell_type": "markdown",
   "metadata": {},
   "source": [
    "# Implemention at one place"
   ]
  },
  {
   "cell_type": "markdown",
   "metadata": {},
   "source": [
    "We made a function called simulation that:\n",
    "    1) Exchanges the keys\n",
    "    2) Finds the Decimal AVK of the series of messages which are likely to be sent by the sender"
   ]
  },
  {
   "cell_type": "code",
   "execution_count": 22,
   "metadata": {},
   "outputs": [],
   "source": [
    "def simulation(send_mess,rec_mess):\n",
    "    keys = []\n",
    "    rec_coll = []\n",
    "    \n",
    "    #Private keys of sender and reciever\n",
    "    PSK = initial_key(bits(send_mess[0]))\n",
    "    PRK = initial_key(bits(rec_mess[0]))\n",
    "    \n",
    "    #Exchange of key (Sender and reciever will have both his private key along the reciver private key)\n",
    "    temp = PSK\n",
    "    PSK = PRK\n",
    "    PRK = temp\n",
    "    \n",
    "    e_mess = auto_var_key(send_mess[0],PRK)\n",
    "    #Transmision of messages from sender to reciever\n",
    "    for m in range(0,len(send_mess)):\n",
    "        keys.append(PRK)\n",
    "        e_mess = dec_avk(e_mess,send_mess[m],PRK)\n",
    "        PRK = auto_var_key(send_mess[m-1],keys[m-1])\n",
    "        rec_coll.append(decode_binary_string(e_mess))\n",
    "    \n",
    "    return rec_coll"
   ]
  },
  {
   "cell_type": "code",
   "execution_count": 23,
   "metadata": {},
   "outputs": [
    {
     "data": {
      "text/plain": [
       "[',\\x05?V\\x0cR\\x036', '\\\\\\x07(E\\x16X\\x181']"
      ]
     },
     "execution_count": 23,
     "metadata": {},
     "output_type": "execute_result"
    }
   ],
   "source": [
    "def simulation_avk(send_mess,rec_mess):\n",
    "    keys = []\n",
    "    rec_coll = []\n",
    "    \n",
    "    #Private keys of sender and reciever\n",
    "    PSK = initial_key(bits(send_mess[0]))\n",
    "    PRK = initial_key(bits(rec_mess[0]))\n",
    "    \n",
    "    #Exchange of key (Sender and reciever will have both his private key along the reciver private key)\n",
    "    temp = PSK\n",
    "    PSK = PRK\n",
    "    PRK = temp\n",
    "    \n",
    "    #Transmision of messages from sender to reciever\n",
    "    for m in range(0,len(send_mess)):\n",
    "        keys.append(PRK)\n",
    "        new_key = auto_var_key(send_mess[m-1],keys[m-1])\n",
    "        keys.append(new_key)\n",
    "        rec_coll.append(decode_binary_string(new_key))\n",
    "    \n",
    "    return rec_coll\n",
    "\n",
    "simulation_avk(['previous','present'],['one','two'])"
   ]
  },
  {
   "cell_type": "code",
   "execution_count": 24,
   "metadata": {},
   "outputs": [
    {
     "data": {
      "text/plain": [
       "['\\x0eM$\\r\\x0eH~\\x17\\x12>h\\x1b;\\x1a*',\n",
       " '2,0\\r\\x13\\x10\\x19\\x07\\x1d\\x06$\\x07\\x02\\n\\x08X?\\x05w>wQ',\n",
       " 'Artific\\x1a#/R\\x1b?\\x1c\\n\\x15HbCZg&']"
      ]
     },
     "execution_count": 24,
     "metadata": {},
     "output_type": "execute_result"
    }
   ],
   "source": [
    "s = ['PreviousMessage','ForMakingitGood','ArtificialIntelligance']\n",
    "r = ['No','Perfect','Yes']\n",
    "simulation(s,r)"
   ]
  },
  {
   "cell_type": "code",
   "execution_count": 25,
   "metadata": {},
   "outputs": [
    {
     "data": {
      "text/plain": [
       "['\\x18`\\x1af\\x0fZA*<N!m\\x1e\\x18\\x1b',\n",
       " 'C22b4\\x0f\\x13jWlc,w\\x04r\\\\@]W\\x03*z',\n",
       " 'ArtificUZtNrBI,*JG\\x17@\\x00\\t']"
      ]
     },
     "execution_count": 25,
     "metadata": {},
     "output_type": "execute_result"
    }
   ],
   "source": [
    "simulation(s,r)"
   ]
  },
  {
   "cell_type": "code",
   "execution_count": 26,
   "metadata": {},
   "outputs": [
    {
     "data": {
      "text/plain": [
       "['MT\\x19\\x13\\x1f`\\x03)/x\\x194S\\x19\\x0f',\n",
       " '\\x16*\\x14L[bg\\n_N\\x10{R3V\\x13\\x02qg/5\\x06',\n",
       " 'Artific*Gqn\\x1d352oa\\x06z\\n\\x0c5']"
      ]
     },
     "execution_count": 26,
     "metadata": {},
     "output_type": "execute_result"
    }
   ],
   "source": [
    "simulation(s,r)"
   ]
  },
  {
   "cell_type": "markdown",
   "metadata": {},
   "source": [
    "From the output we have got above we can say that we have got encrypted messages with keys that inherit from past keys and data. We can see the randomness in the generation each time to run them. This makes them less predictable and not breakable."
   ]
  },
  {
   "cell_type": "markdown",
   "metadata": {},
   "source": [
    "# Randomness in the Generated keys"
   ]
  },
  {
   "cell_type": "markdown",
   "metadata": {},
   "source": [
    "This is the part where we evaluate the randomness in the keys generated. We use hamming distance and also compare the standard deviation of using only the AVK process and also the Decimal AVK process"
   ]
  },
  {
   "cell_type": "code",
   "execution_count": 27,
   "metadata": {},
   "outputs": [
    {
     "data": {
      "text/plain": [
       "4"
      ]
     },
     "execution_count": 27,
     "metadata": {},
     "output_type": "execute_result"
    }
   ],
   "source": [
    "def hamming_distance(a,b):\n",
    "    dist = 0\n",
    "    l = len(a) if len(a)<len(b) else len(b)\n",
    "    for i in range(l):\n",
    "        if(a[i] != b[i]):\n",
    "            dist+=1\n",
    "    \n",
    "    k = len(a)-len(b) if len(a)>len(b) else len(b)-len(a)\n",
    "    if(len(a) != len(b)):\n",
    "        dist+=k\n",
    "    \n",
    "    return dist\n",
    "\n",
    "hamming_distance('hamming','ham')"
   ]
  },
  {
   "cell_type": "code",
   "execution_count": 28,
   "metadata": {},
   "outputs": [],
   "source": [
    "def cmp_eval(send_mess,rec_mess,times,method):\n",
    " \n",
    "    hamming_dist = []\n",
    "    means=[]\n",
    "    std = []\n",
    "    st=0\n",
    "    mean=0\n",
    "    ret=0\n",
    "    \n",
    "    if(method == 'avk'):\n",
    "        for i in range(times):\n",
    "            e_mess1 = simulation_avk(send_mess,rec_mess)\n",
    "            e_mess2 = simulation_avk(send_mess,rec_mess)\n",
    "            for j in range(len(e_mess1)):\n",
    "                hamming_dist.append(hamming_distance(e_mess1[j],e_mess2[j]))\n",
    "    elif(method=='davk'):\n",
    "        for i in range(times):\n",
    "            e_mess1 = simulation(send_mess,rec_mess)\n",
    "            e_mess2 = simulation(send_mess,rec_mess)\n",
    "            for j in range(len(e_mess1)):\n",
    "                hamming_dist.append(hamming_distance(e_mess1[j],e_mess2[j]))\n",
    "    \n",
    "    for k in range(len(hamming_dist)-len(send_mess)*(times-1)):\n",
    "        for m in range(k,len(hamming_dist),len(send_mess)):\n",
    "            mean+=hamming_dist[m]\n",
    "        mean=mean/len(send_mess)\n",
    "        means.append(int(mean))\n",
    "        mean=0\n",
    "\n",
    "    for k in range(len(hamming_dist)-len(send_mess)*(times-1)):\n",
    "        for m in range(k,len(hamming_dist),len(send_mess)):\n",
    "            st = (hamming_dist[m]-means[k]) ** 2\n",
    "            st /= times\n",
    "            st = math.sqrt(st)\n",
    "        std.append(st)\n",
    "        st=0\n",
    "            \n",
    "    for i in range(len(std)):\n",
    "        ret+=std[i]\n",
    "        \n",
    "    return ret"
   ]
  },
  {
   "cell_type": "code",
   "execution_count": 29,
   "metadata": {},
   "outputs": [
    {
     "data": {
      "text/plain": [
       "37.94733192202055"
      ]
     },
     "execution_count": 29,
     "metadata": {},
     "output_type": "execute_result"
    }
   ],
   "source": [
    "cmp_eval(s,r,10,'davk')  #Standard deviation for the Decimal AVK  Process"
   ]
  },
  {
   "cell_type": "code",
   "execution_count": 30,
   "metadata": {},
   "outputs": [
    {
     "data": {
      "text/plain": [
       "32.25523213371747"
      ]
     },
     "execution_count": 30,
     "metadata": {},
     "output_type": "execute_result"
    }
   ],
   "source": [
    "cmp_eval(s,r,10,'avk')  #Standard Deviation for the AVK Process"
   ]
  },
  {
   "cell_type": "markdown",
   "metadata": {},
   "source": [
    "From the above observations we can say that an AVK process has less standard deviation from that of a Decimal AVK process. This proves that randomness is comapratively better with that of a Decimal AVK than AVK process only."
   ]
  },
  {
   "cell_type": "code",
   "execution_count": 31,
   "metadata": {},
   "outputs": [
    {
     "data": {
      "text/plain": [
       "12"
      ]
     },
     "execution_count": 31,
     "metadata": {},
     "output_type": "execute_result"
    }
   ],
   "source": [
    "def hamming_distance(a,b):\n",
    "    dist = 0\n",
    "    l = len(a) if len(a)<len(b) else len(b)\n",
    "    for i in range(l):\n",
    "        if(a[i] != b[i]):\n",
    "            dist+=1\n",
    "    \n",
    "    k = len(a)-len(b) if len(a)>len(b) else len(b)-len(a)\n",
    "    if(len(a) != len(b)):\n",
    "        dist+=k\n",
    "    \n",
    "    return dist\n",
    "\n",
    "hamming_distance('ham','sbnhasfasnca')"
   ]
  },
  {
   "cell_type": "code",
   "execution_count": 32,
   "metadata": {},
   "outputs": [],
   "source": [
    "def cmp_eval(send_mess,rec_mess,times,method):\n",
    " \n",
    "    hamming_dist = []\n",
    "    means=[]\n",
    "    std = []\n",
    "    st=0\n",
    "    mean=0\n",
    "    ret=0\n",
    "    \n",
    "    if(method == 'avk'):\n",
    "        for i in range(times):\n",
    "            e_mess1 = simulation_avk(send_mess,rec_mess)\n",
    "            e_mess2 = simulation_avk(send_mess,rec_mess)\n",
    "            for j in range(len(e_mess1)):\n",
    "                hamming_dist.append(hamming_distance(e_mess1[j],e_mess2[j]))\n",
    "    elif(method=='davk'):\n",
    "        for i in range(times):\n",
    "            e_mess1 = simulation(send_mess,rec_mess)\n",
    "            e_mess2 = simulation(send_mess,rec_mess)\n",
    "            for j in range(len(e_mess1)):\n",
    "                hamming_dist.append(hamming_distance(e_mess1[j],e_mess2[j]))\n",
    "    \n",
    "    for k in range(len(hamming_dist)-len(send_mess)*(times-1)):\n",
    "        for m in range(k,len(hamming_dist),len(send_mess)):\n",
    "            mean+=hamming_dist[m]\n",
    "        mean=mean/len(send_mess)\n",
    "        means.append(int(mean))\n",
    "        mean=0\n",
    "\n",
    "    for k in range(len(hamming_dist)-len(send_mess)*(times-1)):\n",
    "        for m in range(k,len(hamming_dist),len(send_mess)):\n",
    "            st = (hamming_dist[m]-means[k]) ** 2\n",
    "            st /= times\n",
    "            st = math.sqrt(st)\n",
    "        std.append(st)\n",
    "        st=0\n",
    "            \n",
    "    for i in range(len(std)):\n",
    "        ret+=std[i]\n",
    "        \n",
    "    return ret,hamming_dist"
   ]
  },
  {
   "cell_type": "code",
   "execution_count": 33,
   "metadata": {},
   "outputs": [],
   "source": [
    "c,d = cmp_eval(s,r,10,'davk')"
   ]
  },
  {
   "cell_type": "code",
   "execution_count": 34,
   "metadata": {},
   "outputs": [],
   "source": [
    "a,b = cmp_eval(s,r,10,'avk')"
   ]
  },
  {
   "cell_type": "code",
   "execution_count": 37,
   "metadata": {},
   "outputs": [
    {
     "data": {
      "text/plain": [
       "<matplotlib.axes._subplots.AxesSubplot at 0x118965df0>"
      ]
     },
     "execution_count": 37,
     "metadata": {},
     "output_type": "execute_result"
    },
    {
     "data": {
      "image/png": "[encoded data removed]",
      "text/plain": [
       "<Figure size 432x288 with 1 Axes>"
      ]
     },
     "metadata": {
      "needs_background": "light"
     },
     "output_type": "display_data"
    }
   ],
   "source": [
    "arr = [c,a]\n",
    "df = pd.DataFrame({'Methods':['DAVK','AVK'], 'val':arr})\n",
    "\n",
    "df.plot.bar(x ='Methods',y = 'val')"
   ]
  },
  {
   "cell_type": "code",
   "execution_count": 38,
   "metadata": {},
   "outputs": [
    {
     "data": {
      "text/plain": [
       "[<matplotlib.lines.Line2D at 0x11ab00520>]"
      ]
     },
     "execution_count": 38,
     "metadata": {},
     "output_type": "execute_result"
    },
    {
     "data": {
      "image/png": "[encoded data removed]",
      "text/plain": [
       "<Figure size 432x288 with 1 Axes>"
      ]
     },
     "metadata": {
      "needs_background": "light"
     },
     "output_type": "display_data"
    }
   ],
   "source": [
    "plt.plot(b)"
   ]
  },
  {
   "cell_type": "code",
   "execution_count": 39,
   "metadata": {},
   "outputs": [
    {
     "data": {
      "text/plain": [
       "[<matplotlib.lines.Line2D at 0x11ac6fa90>]"
      ]
     },
     "execution_count": 39,
     "metadata": {},
     "output_type": "execute_result"
    },
    {
     "data": {
      "image/png": "[encoded data removed]",
      "text/plain": [
       "<Figure size 432x288 with 1 Axes>"
      ]
     },
     "metadata": {
      "needs_background": "light"
     },
     "output_type": "display_data"
    }
   ],
   "source": [
    "plt.plot(d)"
   ]
  },
  {
   "cell_type": "code",
   "execution_count": null,
   "metadata": {},
   "outputs": [],
   "source": []
  }
 ],
 "metadata": {
  "kernelspec": {
   "display_name": "Python 3",
   "language": "python",
   "name": "python3"
  },
  "language_info": {
   "codemirror_mode": {
    "name": "ipython",
    "version": 3
   },
   "file_extension": ".py",
   "mimetype": "text/x-python",
   "name": "python",
   "nbconvert_exporter": "python",
   "pygments_lexer": "ipython3",
   "version": "3.8.1"
  }
 },
 "nbformat": 4,
 "nbformat_minor": 4
}
