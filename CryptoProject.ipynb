{
 "cells": [
  {
   "cell_type": "code",
   "execution_count": 1,
   "metadata": {},
   "outputs": [],
   "source": [
    "import random\n",
    "import numpy as np\n",
    "import math\n",
    "from nltk.tokenize import sent_tokenize\n",
    "import matplotlib.pyplot as plt\n",
    "import pandas as pd"
   ]
  },
  {
   "cell_type": "markdown",
   "metadata": {},
   "source": [
    "# Genetic Algorithm in Cryptography"
   ]
  },
  {
   "cell_type": "markdown",
   "metadata": {},
   "source": [
    "The various steps include \n",
    "    1) Population Genration\n",
    "    2) Fitness Test for each\n",
    "    3) Selecting the best two for crossover by the means of fitness test\n",
    "    4) Crossover of the selected two with higher values\n",
    "    5) Mutating them"
   ]
  },
  {
   "cell_type": "markdown",
   "metadata": {},
   "source": [
    "We can use hexa keys for this encryption process but we used binary keys according to the algorithm."
   ]
  },
  {
   "cell_type": "markdown",
   "metadata": {},
   "source": [
    "# Initial Population Generation"
   ]
  },
  {
   "cell_type": "code",
   "execution_count": 2,
   "metadata": {},
   "outputs": [],
   "source": [
    "def bin_pop_gen(size,allzeros):\n",
    "    key = ''\n",
    "    if(allzeros == True):\n",
    "        for i in range(size):\n",
    "            key += '0'\n",
    "    else:\n",
    "        for i in range(size):\n",
    "            key += str(random.randint(0,1))\n",
    "    return (key)\n",
    "\n",
    "def hex_pop_gen(size,allzeros):\n",
    "    key = ''\n",
    "    l = ['0','1','2','3','4','5','6','7','8','9','A','B','C','D','E','F']\n",
    "    if(allzeros == True):\n",
    "        for i in range(size):\n",
    "            key += '0'\n",
    "    else:\n",
    "        for i in range(size):\n",
    "            key += str(random.choice(l))\n",
    "    return (key)"
   ]
  },
  {
   "cell_type": "code",
   "execution_count": 251,
   "metadata": {},
   "outputs": [
    {
     "data": {
      "text/plain": [
       "'0011101101110011000010010010011111110111101011010111111110101111011111110100011111101110111101101011'"
      ]
     },
     "execution_count": 251,
     "metadata": {},
     "output_type": "execute_result"
    }
   ],
   "source": [
    "bin_pop_gen(100,False)\n"
   ]
  },
  {
   "cell_type": "code",
   "execution_count": 4,
   "metadata": {},
   "outputs": [],
   "source": [
    "def ini_pop(size):\n",
    "    d = {}\n",
    "    for i in range(32):\n",
    "        k = 'key'+str(i)\n",
    "        d[k] = bin_pop_gen(size,False)\n",
    "    return d"
   ]
  },
  {
   "cell_type": "code",
   "execution_count": 5,
   "metadata": {},
   "outputs": [
    {
     "data": {
      "text/plain": [
       "{'key0': '01011001000111110100010110111100010011001011111001001001111111101011101111000010100000110111111000110010000111101100111111011000',\n",
       " 'key1': '10111001101110001101001101010010010010100010000001111111100000101100011000000011001000100010001011010011011110000100010110000101',\n",
       " 'key2': '10000001111011000000000101100001110001110010100100011010110001010011001011011100000011100110100110100001000110110001000111000111',\n",
       " 'key3': '00100100101100001010001101101100010001111010110010011100001100000111111101010011110001011000000100100001010000000100111010111100',\n",
       " 'key4': '01110011110001101111000000000011010010110001110000000100110001001100100111011000011001000010011101010110010001100110100010110000',\n",
       " 'key5': '00011100001001100010100010001010000000001110111101111011110111110111101010011111011101111000110000110001010000101110011101110000',\n",
       " 'key6': '01100100110001111010000111101010011100111111111101110010110110100100000011000001101010010001010010010101001111110001101111000110',\n",
       " 'key7': '10110001011110101001010010010010101001011000011100011100100111001000001110010011110101000100101101111111101111101111110011011000',\n",
       " 'key8': '10000110101001100101001001101010000101001110011011010100100010010100101111111110100111010010100110100011110011101101101110111001',\n",
       " 'key9': '00101000000010010111011101000111110000111001000000010100010000111111110101100111101110100010001100111100101000100011001010010000',\n",
       " 'key10': '00011001000000011101010100000001000100010010001111100100000110100010101111110001101101010010100111111110110111101010011100011001',\n",
       " 'key11': '00000101101101101001000010101000001000111110001011101111000101001001001011101011001100010101110100111100001101111101010000010000',\n",
       " 'key12': '01100100101011001011001000001100010010100001110100110100110110111011010110011111100010000111000110010001001010011111000001101010',\n",
       " 'key13': '11111100111010100111100010110001001011100101100110000101000011001111011010011100011111110001100100001000010101010111011101101101',\n",
       " 'key14': '01110011100001110100111101110100010110001001010011001010110001010001010111101110000010100101011001000111111011010101101101000111',\n",
       " 'key15': '11101100101111101111010111000011001000100110101011101011010000011100101111111010110100011100111101000100010000100110011001110111',\n",
       " 'key16': '00110110010110111110010011100100001101001110011011100010010110101011011000011000100011010010011011010100110001000011101001101010',\n",
       " 'key17': '10000000001011000001101101111100011110010101101011110001011111001010111010101100110011100000001010110110010100111110000110001010',\n",
       " 'key18': '10111010010000101001110111111101011111000010100101100001000000000100000011011011000101101110111101001000100111100111111111100000',\n",
       " 'key19': '01011001000011111100100000010011001000000011100101000111111101101100000010110011101110110000010101101011100110110000001011011110',\n",
       " 'key20': '11100110101011000110101011001111001110001011011101111101100011001000110100011010001111110001011011101101001111100111000100111101',\n",
       " 'key21': '11101100100011111101111101000110111111001010010010111101011100010000100011010100100000111001110011101111101011011101001001001000',\n",
       " 'key22': '01011111010111011010010100011010001111101111011000000000001000001111110101101001101001001111000000011101000000110100110100101101',\n",
       " 'key23': '00011101100100110000011101000000110011011001001000010110100111011101110010000001000011110010000101110111010001110010101100010111',\n",
       " 'key24': '00010011101000001100010110101110010001101101111001111011010111100001100011110011100110001011011100000100000100010001010010101111',\n",
       " 'key25': '10100100111011001101011110100000101101001110011001101010100100000111010001111000110001011011101010010011100011001101100110101010',\n",
       " 'key26': '10011000010001000100000100100100000110111100110000010001111111101101101110010110001001001111101010000010111110001100111001100010',\n",
       " 'key27': '00010010111001001001100110100111010011001011001000001100010100000101011101111000001111000100000101100110010010100010001110110000',\n",
       " 'key28': '01101111001111011101111000000010010011001000111001000101110000111111101010001111000100011111010011010010011100111110110101100100',\n",
       " 'key29': '10001111010101100010000000101010011001010011101110110010011101011110110111001110111101000011111101100000110111111110010110100101',\n",
       " 'key30': '00110110000011100000010100000010100111101000101000010011010101011000110100010111111100110110110111111110010010000100100010000000',\n",
       " 'key31': '10100101111101111101101000011011000111000011111111010110001110110100101110001011111010100111101000000011110011100101000100100101'}"
      ]
     },
     "execution_count": 5,
     "metadata": {},
     "output_type": "execute_result"
    }
   ],
   "source": [
    "pop = ini_pop(128) #THis is also called generation and each item is called an individual\n",
    "pop"
   ]
  },
  {
   "cell_type": "markdown",
   "metadata": {},
   "source": [
    "# Fitness Test 1 "
   ]
  },
  {
   "cell_type": "markdown",
   "metadata": {},
   "source": [
    "This deals with finding the no. of ones in a single key."
   ]
  },
  {
   "cell_type": "code",
   "execution_count": 6,
   "metadata": {},
   "outputs": [],
   "source": [
    "def ff1(indi):\n",
    "    c = 0\n",
    "    for i in indi:\n",
    "        if(i == \"1\"):\n",
    "            c+=1\n",
    "    return c"
   ]
  },
  {
   "cell_type": "code",
   "execution_count": 7,
   "metadata": {},
   "outputs": [],
   "source": [
    "def totalfit(pop):      #For normalization purposes\n",
    "    s = 0\n",
    "    for i in range(len(pop)):\n",
    "        s += ff1(pop['key'+str(i)])\n",
    "    return s\n",
    "\n",
    "\n",
    "def r_value(indi,total):   #The metric on which we rely on selecting the best_two\n",
    "    return ff1(indi)/total\n",
    "\n",
    "def get_key(val,d):        #For ease purposes\n",
    "    for key, value in d.items(): \n",
    "         if val == value: \n",
    "            return key"
   ]
  },
  {
   "cell_type": "markdown",
   "metadata": {},
   "source": [
    "# Selecting the best two from the population"
   ]
  },
  {
   "cell_type": "code",
   "execution_count": 252,
   "metadata": {},
   "outputs": [
    {
     "data": {
      "text/plain": [
       "('11100110101011000110101011001111001110001011011101111101100011001000110100011010001111110001011011101101001111100111000100111101',\n",
       " '01011001000111110100010110111100010011001011111001001001111111101011101111000010100000110111111000110010000111101100111111011000')"
      ]
     },
     "execution_count": 252,
     "metadata": {},
     "output_type": "execute_result"
    }
   ],
   "source": [
    "def best_two(pop):\n",
    "    r_values = {}\n",
    "    for i in range(len(pop)):\n",
    "        total = totalfit(pop)\n",
    "        r = r_value(pop['key'+str(i)],total)\n",
    "        r_values[pop['key'+str(i)]] = r\n",
    "    l = list(r_values.values())\n",
    "    r1 = np.array(l)\n",
    "    r1 = np.unique(r1)\n",
    "    r1,r2 = list(np.sort(r1)[::-1])[:2]\n",
    "    \n",
    "    return get_key(r1,r_values),get_key(r2,r_values)\n",
    "\n",
    "best_two(pop)"
   ]
  },
  {
   "cell_type": "markdown",
   "metadata": {},
   "source": [
    "# Crossover"
   ]
  },
  {
   "cell_type": "markdown",
   "metadata": {},
   "source": [
    "We crossover half of the first binary equivalent with the other one and vice versa."
   ]
  },
  {
   "cell_type": "code",
   "execution_count": 253,
   "metadata": {},
   "outputs": [
    {
     "data": {
      "text/plain": [
       "('11000101', '01001010')"
      ]
     },
     "execution_count": 253,
     "metadata": {},
     "output_type": "execute_result"
    }
   ],
   "source": [
    "def crossover(a,b):\n",
    "    la = int(len(a)/2)\n",
    "    lb = int(len(b)/2)\n",
    "    a1 = a[:la]\n",
    "    a2 = b[la:]\n",
    "    b1 = b[:lb]\n",
    "    b2 = a[la:]\n",
    "    return a1+a2, b1+b2\n",
    "\n",
    "crossover('11001010','01000101')"
   ]
  },
  {
   "cell_type": "markdown",
   "metadata": {},
   "source": [
    "# Mutation"
   ]
  },
  {
   "cell_type": "markdown",
   "metadata": {},
   "source": [
    "We mutate the first, middle and also the last bit which gives us a modified individual from the selected ones."
   ]
  },
  {
   "cell_type": "code",
   "execution_count": 10,
   "metadata": {},
   "outputs": [
    {
     "data": {
      "text/plain": [
       "'01000011'"
      ]
     },
     "execution_count": 10,
     "metadata": {},
     "output_type": "execute_result"
    }
   ],
   "source": [
    "def mutate(a):\n",
    "    st = ''\n",
    "    la = int(len(a)/2)\n",
    "    if(a[0] == '0'):\n",
    "        st+='1'\n",
    "    else:\n",
    "        st+='0'\n",
    "    for i in range(1,len(a)-1):\n",
    "        if(i == la):\n",
    "            if(a[la] == '1'):\n",
    "                st += '0'\n",
    "            elif(a[la] == '0'):\n",
    "                st += '1'\n",
    "        else:\n",
    "            st += a[i]\n",
    "    if(a[len(a)-1] == '0'):\n",
    "        st+='1'\n",
    "    else:\n",
    "        st+='0'\n",
    "    return st\n",
    "\n",
    "mutate(\"11001010\")"
   ]
  },
  {
   "cell_type": "markdown",
   "metadata": {},
   "source": [
    "# Fitness Test 2"
   ]
  },
  {
   "cell_type": "markdown",
   "metadata": {},
   "source": [
    "This is another evaluation function used for evaluating our best two strings and to pick one. This function checks for most number of '1111' occurences in a given binary string."
   ]
  },
  {
   "cell_type": "code",
   "execution_count": 11,
   "metadata": {},
   "outputs": [
    {
     "data": {
      "text/plain": [
       "3"
      ]
     },
     "execution_count": 11,
     "metadata": {},
     "output_type": "execute_result"
    }
   ],
   "source": [
    "def ff2(k1):\n",
    "    k = '1111'\n",
    "    c = 0\n",
    "    \n",
    "    for f in range(len(k1)-3):\n",
    "        j=''\n",
    "        for i in range(f,f+4):\n",
    "            j+=k1[i]\n",
    "        if(j==k):\n",
    "            c+=1\n",
    "        else:\n",
    "            continue\n",
    "    return c\n",
    "\n",
    "ff2('1111000001111000001111')"
   ]
  },
  {
   "cell_type": "markdown",
   "metadata": {},
   "source": [
    "# Initial Key Selection"
   ]
  },
  {
   "cell_type": "markdown",
   "metadata": {},
   "source": [
    "This is a crucial step in our algorithm which selects the best key from a given population. All the above "
   ]
  },
  {
   "cell_type": "code",
   "execution_count": 300,
   "metadata": {},
   "outputs": [
    {
     "data": {
      "text/plain": [
       "'00010111111111000010001111110111011100010110110001100110111010000100011100011010110000011101101110011111110011010110101011000110'"
      ]
     },
     "execution_count": 300,
     "metadata": {},
     "output_type": "execute_result"
    }
   ],
   "source": [
    "def initial_key(size):\n",
    "    pop = ini_pop(size)\n",
    "    k1,k2 = best_two(pop)\n",
    "    c1,c2 = crossover(k1,k2)\n",
    "    c1,c2 = mutate(c1),mutate(c2)\n",
    "    while(True):\n",
    "        if(ff2(c1) > ff2(c2)):\n",
    "            return c1\n",
    "            break\n",
    "        elif(ff2(c1) < ff2(c2)):\n",
    "            return c2\n",
    "            break\n",
    "        else:\n",
    "            pop[(get_key(k1,pop))]=bin_pop_gen(size,True)\n",
    "            pop[(get_key(k2,pop))]=bin_pop_gen(size,True)\n",
    "            k1,k2 = best_two(pop)\n",
    "            c1,c2 = crossover(k1,k2)\n",
    "            c1,c2 = mutate(c1),mutate(c2)\n",
    "\n",
    "initial_key(128)"
   ]
  },
  {
   "cell_type": "code",
   "execution_count": 256,
   "metadata": {},
   "outputs": [
    {
     "data": {
      "text/plain": [
       "'110001111100101111001111000011101001101111110011111100101100001111000011010001111001100000110100111100111000001100111110111111011111100100'"
      ]
     },
     "execution_count": 256,
     "metadata": {},
     "output_type": "execute_result"
    }
   ],
   "source": [
    "def data_block_gen(data):\n",
    "    block = ''\n",
    "    sentences = sent_tokenize(data)\n",
    "    for sent in sentences:\n",
    "        b = ''.join(format(i,'b') for i in bytearray(sent,encoding='UTF-8'))\n",
    "        block+=b\n",
    "    return block\n",
    "\n",
    "data_block_gen(\"cryptography is good\")"
   ]
  },
  {
   "cell_type": "markdown",
   "metadata": {},
   "source": [
    "XOR function which will be helped in  the code below for Dynamic Key generation"
   ]
  },
  {
   "cell_type": "code",
   "execution_count": 14,
   "metadata": {},
   "outputs": [],
   "source": [
    "def xor(a,b): #equal lengths\n",
    "    x = ''\n",
    "    for i in range(0,int((len(b)+len(a))/2)):\n",
    "        if(a[i] == b[i]):\n",
    "            x+='0'\n",
    "        else:\n",
    "            x+='1'\n",
    "    return x"
   ]
  },
  {
   "cell_type": "code",
   "execution_count": 15,
   "metadata": {},
   "outputs": [],
   "source": [
    "def decode_binary_string(s, encoding='ascii'):   #Used for decoding a binary string back to text\n",
    "    byte_string = ''.join(chr(int(s[i*7:i*7+7],2)) for i in range(len(s)//7))\n",
    "    return byte_string"
   ]
  },
  {
   "cell_type": "code",
   "execution_count": 16,
   "metadata": {},
   "outputs": [
    {
     "data": {
      "text/plain": [
       "192"
      ]
     },
     "execution_count": 16,
     "metadata": {},
     "output_type": "execute_result"
    }
   ],
   "source": [
    "def bits(block):      #Count the number of bits in a data block\n",
    "    return len(data_block_gen(block))\n",
    "\n",
    "bits(\"I am working on cryptography\")"
   ]
  },
  {
   "cell_type": "code",
   "execution_count": 17,
   "metadata": {},
   "outputs": [],
   "source": [
    "def addZeros(strr, n):  #Functions used to make things easy in this algo\n",
    "    for i in range(n): \n",
    "        strr = \"0\" + strr \n",
    "    return strr \n",
    "\n",
    "def getXOR(a, b):   #Alterantive XOR function for variable length binary strings\n",
    "    aLen = len(a) \n",
    "    bLen = len(b) \n",
    "    if (aLen > bLen): \n",
    "        b = addZeros(b, aLen - bLen) \n",
    "    elif (bLen > aLen): \n",
    "        a = addZeros(a, bLen - aLen) \n",
    "  \n",
    "    lenn = max(aLen, bLen); \n",
    "\n",
    "    res = \"\" \n",
    "    for i in range(lenn): \n",
    "        if (a[i] == b[i]): \n",
    "            res += \"0\"\n",
    "        else: \n",
    "            res += \"1\"\n",
    "  \n",
    "    return res "
   ]
  },
  {
   "cell_type": "markdown",
   "metadata": {},
   "source": [
    "# Automatic Variable Key generation (AVK)"
   ]
  },
  {
   "cell_type": "markdown",
   "metadata": {},
   "source": [
    "This is step we proceed to after getting our initial key. Imagine a sender and a reciever. Before establishing any connection they share there private keys and then start sending messages. \n",
    "The basic idea is to variate the key according to the data which makes it unbreakable and also less random."
   ]
  },
  {
   "cell_type": "code",
   "execution_count": 285,
   "metadata": {},
   "outputs": [],
   "source": [
    "mes = 'CryptographyisUseful'   #Let this be the message\n",
    "key = initial_key(bits(mes))    #Picking a initial key\n",
    "\n",
    "def auto_var_key(message,key):\n",
    "    return getXOR(data_block_gen(message),key)"
   ]
  },
  {
   "cell_type": "code",
   "execution_count": 286,
   "metadata": {},
   "outputs": [
    {
     "data": {
      "text/plain": [
       "('K\\x14P_\"k\\x12J>=~o.y#\\x1e\\x1a]@\\x14', 'CryptographyisUseful')"
      ]
     },
     "execution_count": 286,
     "metadata": {},
     "output_type": "execute_result"
    }
   ],
   "source": [
    "cipher = auto_var_key(mes,key)\n",
    "original_text = getXOR(cipher,key)\n",
    "\n",
    "decode_binary_string(cipher), decode_binary_string(original_text) #An example on generating a cipher and its decrypted part"
   ]
  },
  {
   "cell_type": "markdown",
   "metadata": {},
   "source": [
    "# Decimal Automatic Variable Key (DCSAVK)"
   ]
  },
  {
   "cell_type": "markdown",
   "metadata": {},
   "source": [
    "This is another method that increases the randomness of a key making it more dependent on data.\n",
    "\n",
    "AVK follows key[i] = key[i-1] XOR Data[i-1] (data sent before)\n",
    "DCSAVK follows key[i] = key^[i-1] XOR Data[i-1] (^ meaning shift and the number it will shift is the decimal value of                                                  the above AVK equation)"
   ]
  },
  {
   "cell_type": "code",
   "execution_count": 260,
   "metadata": {},
   "outputs": [
    {
     "data": {
      "text/plain": [
       "'101111001'"
      ]
     },
     "execution_count": 260,
     "metadata": {},
     "output_type": "execute_result"
    }
   ],
   "source": [
    "def circular_shift(n,d,dire):\n",
    "    if(dire == 'right'):\n",
    "        shift = ''\n",
    "        for i in range(len(n)-d,len(n),1):\n",
    "            shift+=n[i]\n",
    "        for i in range(0,len(n)-d,1):\n",
    "            shift+=n[i]\n",
    "    if(dire == 'left'):\n",
    "        shift = ''\n",
    "        for i in range(d+1,len(n),1):\n",
    "            shift+=n[i]\n",
    "        for i in range(0,d+1,1):\n",
    "            shift+=n[i]\n",
    "            \n",
    "    return shift\n",
    "\n",
    "circular_shift('111001101',3,'right')"
   ]
  },
  {
   "cell_type": "code",
   "execution_count": 264,
   "metadata": {},
   "outputs": [
    {
     "data": {
      "text/plain": [
       "'Howareyou'"
      ]
     },
     "execution_count": 264,
     "metadata": {},
     "output_type": "execute_result"
    }
   ],
   "source": [
    "def remove_spaces(message):\n",
    "    string = ''\n",
    "    for m in message:\n",
    "        if(m != ' '):\n",
    "            string+=m\n",
    "    return string\n",
    "\n",
    "remove_spaces('to remove all the spaces')\n",
    "\n",
    "def remove_utf(mess,o):\n",
    "    l = len(remove_spaces(o))\n",
    "    rl =len(mess) - l\n",
    "    s = ''\n",
    "    for i in range(rl,len(mess)):\n",
    "        s+=mess[i]\n",
    "    return s\n",
    "    \n",
    "\n",
    "remove_utf('\\x00\\x00\\x00Howareyou','How are you')"
   ]
  },
  {
   "cell_type": "code",
   "execution_count": 308,
   "metadata": {},
   "outputs": [
    {
     "data": {
      "text/plain": [
       "('&\\x1aZ%f4>1>\\x18Dg\\x0c\\r\\x00\\x06r\\x17\\x14\\x0cj>',\n",
       " '\\x00\\x00thisandshowtheanswer')"
      ]
     },
     "execution_count": 308,
     "metadata": {},
     "output_type": "execute_result"
    }
   ],
   "source": [
    "def dec_avk(mes0,mes1): #The Decimal AVK Algorithm\n",
    "    mes0 = remove_spaces(mes0)\n",
    "    mes1 = remove_spaces(mes1)\n",
    "    key = initial_key(bits(mes0))\n",
    "    d = auto_var_key(mes0,key)\n",
    "    n = int(d,2)%int(len(key)/2)\n",
    "    key = circular_shift(key,n,'right')\n",
    "    cipher = getXOR(data_block_gen(mes1),key)\n",
    "    \n",
    "    decrypt = getXOR(cipher,key)\n",
    "    \n",
    "    return decode_binary_string(cipher), decode_binary_string(decrypt)\n",
    "\n",
    "dec_avk('I am loukik and i am working','this and show the answer')"
   ]
  },
  {
   "cell_type": "markdown",
   "metadata": {},
   "source": [
    "# Implemention at one place"
   ]
  },
  {
   "cell_type": "markdown",
   "metadata": {},
   "source": [
    "We made a function called simulation that:\n",
    "    1) Exchanges the keys\n",
    "    2) Finds the Decimal AVK of the series of messages which are likely to be sent by the sender"
   ]
  },
  {
   "cell_type": "code",
   "execution_count": 189,
   "metadata": {},
   "outputs": [],
   "source": [
    "def simulation(send_mess):\n",
    "    ciphers = []\n",
    "    orig = []\n",
    "    c,o = dec_avk('Gentic Alogrithm',send_mess[0])\n",
    "    ciphers.append(c)\n",
    "    orig.append(o)\n",
    "    for i in range(len(send_mess)-1):\n",
    "        c,o = dec_avk(send_mess[i],send_mess[i+1])\n",
    "        ciphers.append(c)\n",
    "        orig.append(o)\n",
    "   \n",
    "    \n",
    "    return ciphers,orig"
   ]
  },
  {
   "cell_type": "code",
   "execution_count": 190,
   "metadata": {},
   "outputs": [
    {
     "data": {
      "text/plain": [
       "['N\\x07\\x14Yv\\x16C\\n', '>\\x05\\x03Jl\\x1cX\\r']"
      ]
     },
     "execution_count": 190,
     "metadata": {},
     "output_type": "execute_result"
    }
   ],
   "source": [
    "def simulation_avk(send_mess,rec_mess):\n",
    "    keys = []\n",
    "    rec_coll = []\n",
    "    \n",
    "    #Private keys of sender and reciever\n",
    "    PSK = initial_key(bits(send_mess[0]))\n",
    "    PRK = initial_key(bits(rec_mess[0]))\n",
    "    \n",
    "    #Exchange of key (Sender and reciever will have both his private key along the reciver private key)\n",
    "    temp = PSK\n",
    "    PSK = PRK\n",
    "    PRK = temp\n",
    "    \n",
    "    #Transmision of messages from sender to reciever\n",
    "    for m in range(0,len(send_mess)):\n",
    "        keys.append(PRK)\n",
    "        new_key = auto_var_key(send_mess[m-1],keys[m-1])\n",
    "        keys.append(new_key)\n",
    "        rec_coll.append(decode_binary_string(new_key))\n",
    "    \n",
    "    return rec_coll\n",
    "\n",
    "simulation_avk(['previous','present'],['one','two'])"
   ]
  },
  {
   "cell_type": "code",
   "execution_count": 270,
   "metadata": {},
   "outputs": [
    {
     "data": {
      "text/plain": [
       "(['*\\x18l\\x1f\\x06\\x0e8\\x07\\x08m\\x08\\x1c\\x07^\\x1c',\n",
       "  '58\\x00Z\\x7fdG}\\x16tBi',\n",
       "  'Didwegetthemess\\x04*\\x10\\x06K\\x03I\\x11\\\\\\x13G',\n",
       "  '[UW&mC}_G5\\x7f\\x15\\x19z\\x13`W\\x16r\\x0e\\x08\\x0bP{\\x087'],\n",
       " ['\\x00\\x00\\x00FirstMessage',\n",
       "  '\\x00Isthisright',\n",
       "  'Didwegetthemessageproperly',\n",
       "  '\\x00\\x00\\x00\\x00\\x00\\x00\\x00\\x00Letscheckallofthem'])"
      ]
     },
     "execution_count": 270,
     "metadata": {},
     "output_type": "execute_result"
    }
   ],
   "source": [
    "s = ['First Message','Is this right','Did we get the message properly','Lets check all of them']\n",
    "simulation(s)"
   ]
  },
  {
   "cell_type": "code",
   "execution_count": 271,
   "metadata": {},
   "outputs": [
    {
     "data": {
      "text/plain": [
       "(['N\\x19QM\\x04\\x05W+>\\x19>!g:Y',\n",
       "  '\\x17!@w5\\x180\\x0cz)E\\x0f',\n",
       "  'DidwegetthemessTVOy\\r\\x0cE\\x02f\\x16G',\n",
       "  'g=Xcc\\x18?9ER}1L*J\\x04$ Z#a9\\tYM\\x1d'],\n",
       " ['\\x00\\x00\\x00FirstMessage',\n",
       "  '\\x00Isthisright',\n",
       "  'Didwegetthemessageproperly',\n",
       "  '\\x00\\x00\\x00\\x00\\x00\\x00\\x00\\x00Letscheckallofthem'])"
      ]
     },
     "execution_count": 271,
     "metadata": {},
     "output_type": "execute_result"
    }
   ],
   "source": [
    "simulation(s)"
   ]
  },
  {
   "cell_type": "code",
   "execution_count": 244,
   "metadata": {},
   "outputs": [
    {
     "data": {
      "text/plain": [
       "['LetsAGQK@P)AtM\\x1f\\x13G\\x12JW\\x0b',\n",
       " \"6\\x1cZ\\x1b\\x0b2\\x06\\x15T'8u\",\n",
       " 'LetsAGQKBwgFR\\x0bP\\x0fI?V*\\x05',\n",
       " 'DidAoK\\x03\\x1f\\x17R\\x07&F,\\r\\\\^02IqWb/\\x00\\x1a!3l3']"
      ]
     },
     "execution_count": 244,
     "metadata": {},
     "output_type": "execute_result"
    }
   ],
   "source": [
    "simulation_avk(s,r)"
   ]
  },
  {
   "cell_type": "markdown",
   "metadata": {},
   "source": [
    "From the output we have got above we can say that we have got encrypted messages with keys that inherit from past keys and data. We can see the randomness in the generation each time to run them. This makes them less predictable and not breakable."
   ]
  },
  {
   "cell_type": "markdown",
   "metadata": {},
   "source": [
    "# Randomness in the Generated keys"
   ]
  },
  {
   "cell_type": "markdown",
   "metadata": {},
   "source": [
    "This is the part where we evaluate the randomness in the keys generated. We use hamming distance and also compare the standard deviation of using only the AVK process and also the Decimal AVK process"
   ]
  },
  {
   "cell_type": "code",
   "execution_count": 276,
   "metadata": {},
   "outputs": [
    {
     "data": {
      "text/plain": [
       "12"
      ]
     },
     "execution_count": 276,
     "metadata": {},
     "output_type": "execute_result"
    }
   ],
   "source": [
    "def hamming_distance(a,b):\n",
    "    dist = 0\n",
    "    l = len(a) if len(a)<len(b) else len(b)\n",
    "    for i in range(l):\n",
    "        if(a[i] != b[i]):\n",
    "            dist+=1\n",
    "    \n",
    "    k = len(a)-len(b) if len(a)>len(b) else len(b)-len(a)\n",
    "    if(len(a) != len(b)):\n",
    "        dist+=k\n",
    "    \n",
    "    return dist\n",
    "\n",
    "hamming_distance('ham','sbnhasfasnca')"
   ]
  },
  {
   "cell_type": "code",
   "execution_count": 292,
   "metadata": {},
   "outputs": [],
   "source": [
    "def cmp_eval(send_mess,rec_mess,times,method):\n",
    " \n",
    "    hamming_dist = []\n",
    "    means=[]\n",
    "    std = []\n",
    "    st=0\n",
    "    mean=0\n",
    "    ret=0\n",
    "    \n",
    "    if(method == 'avk'):\n",
    "        for i in range(times):\n",
    "            e_mess1 = simulation_avk(send_mess,rec_mess)\n",
    "            e_mess2 = simulation_avk(send_mess,rec_mess)\n",
    "            for j in range(len(e_mess1)):\n",
    "                hamming_dist.append(hamming_distance(e_mess1[j],e_mess2[j]))\n",
    "    elif(method=='davk'):\n",
    "        for i in range(times):\n",
    "            e_mess1 = simulation(send_mess,rec_mess)\n",
    "            e_mess2 = simulation(send_mess,rec_mess)\n",
    "            for j in range(len(e_mess1)):\n",
    "                hamming_dist.append(hamming_distance(e_mess1[j],e_mess2[j]))\n",
    "    \n",
    "    for k in range(len(hamming_dist)-len(send_mess)*(times-1)):\n",
    "        for m in range(k,len(hamming_dist),len(send_mess)):\n",
    "            mean+=hamming_dist[m]\n",
    "        mean=mean/len(send_mess)\n",
    "        means.append(int(mean))\n",
    "        mean=0\n",
    "\n",
    "    for k in range(len(hamming_dist)-len(send_mess)*(times-1)):\n",
    "        for m in range(k,len(hamming_dist),len(send_mess)):\n",
    "            st = (hamming_dist[m]-means[k]) ** 2\n",
    "            st /= times\n",
    "            st = math.sqrt(st)\n",
    "        std.append(st)\n",
    "        st=0\n",
    "            \n",
    "    for i in range(len(std)):\n",
    "        ret+=std[i]\n",
    "        \n",
    "    return ret,hamming_dist"
   ]
  },
  {
   "cell_type": "code",
   "execution_count": 297,
   "metadata": {},
   "outputs": [],
   "source": [
    "c,d = cmp_eval(s,r,10,'davk') #Standard deviation for the Decimal AVK  Process"
   ]
  },
  {
   "cell_type": "code",
   "execution_count": 294,
   "metadata": {},
   "outputs": [],
   "source": [
    "a,b = cmp_eval(s,r,10,'avk')  #Standard Deviation for the AVK Process"
   ]
  },
  {
   "cell_type": "markdown",
   "metadata": {},
   "source": [
    "From the above observations we can say that an AVK process has less standard deviation from that of a Decimal AVK process. This proves that randomness is comapratively better with that of a Decimal AVK than AVK process only."
   ]
  },
  {
   "cell_type": "markdown",
   "metadata": {},
   "source": [
    "# Graphical Representations"
   ]
  },
  {
   "cell_type": "code",
   "execution_count": 295,
   "metadata": {},
   "outputs": [
    {
     "data": {
      "text/plain": [
       "<matplotlib.axes._subplots.AxesSubplot at 0x1224bb340>"
      ]
     },
     "execution_count": 295,
     "metadata": {},
     "output_type": "execute_result"
    },
    {
     "data": {
      "image/png": "[encoded data removed]",
      "text/plain": [
       "<Figure size 432x288 with 1 Axes>"
      ]
     },
     "metadata": {
      "needs_background": "light"
     },
     "output_type": "display_data"
    }
   ],
   "source": [
    "arr = [c,a]\n",
    "df = pd.DataFrame({'Methods':['DAVK','AVK'], 'val':arr})\n",
    "\n",
    "df.plot.bar(x ='Methods',y = 'val')"
   ]
  },
  {
   "cell_type": "code",
   "execution_count": 32,
   "metadata": {},
   "outputs": [
    {
     "data": {
      "text/plain": [
       "[<matplotlib.lines.Line2D at 0x1246b57c0>]"
      ]
     },
     "execution_count": 32,
     "metadata": {},
     "output_type": "execute_result"
    },
    {
     "data": {
      "image/png": "[encoded data removed]",
      "text/plain": [
       "<Figure size 432x288 with 1 Axes>"
      ]
     },
     "metadata": {
      "needs_background": "light"
     },
     "output_type": "display_data"
    }
   ],
   "source": [
    "plt.plot(b)"
   ]
  },
  {
   "cell_type": "code",
   "execution_count": 33,
   "metadata": {},
   "outputs": [
    {
     "data": {
      "text/plain": [
       "[<matplotlib.lines.Line2D at 0x124710ac0>]"
      ]
     },
     "execution_count": 33,
     "metadata": {},
     "output_type": "execute_result"
    },
    {
     "data": {
      "image/png": "[encoded data removed]",
      "text/plain": [
       "<Figure size 432x288 with 1 Axes>"
      ]
     },
     "metadata": {
      "needs_background": "light"
     },
     "output_type": "display_data"
    }
   ],
   "source": [
    "plt.plot(d)"
   ]
  },
  {
   "cell_type": "code",
   "execution_count": null,
   "metadata": {},
   "outputs": [],
   "source": []
  }
 ],
 "metadata": {
  "kernelspec": {
   "display_name": "Python 3",
   "language": "python",
   "name": "python3"
  },
  "language_info": {
   "codemirror_mode": {
    "name": "ipython",
    "version": 3
   },
   "file_extension": ".py",
   "mimetype": "text/x-python",
   "name": "python",
   "nbconvert_exporter": "python",
   "pygments_lexer": "ipython3",
   "version": "3.8.1"
  }
 },
 "nbformat": 4,
 "nbformat_minor": 4
}
